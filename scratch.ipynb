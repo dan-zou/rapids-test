{
 "cells": [
  {
   "cell_type": "code",
   "execution_count": 166,
   "metadata": {},
   "outputs": [],
   "source": [
    "from __future__ import print_function\n",
    "from matplotlib import pyplot as plt\n",
    "\n",
    "import cudf\n",
    "# import cuml\n",
    "import torch\n",
    "\n",
    "import numpy as np\n",
    "\n",
    "from timeit import default_timer as timer"
   ]
  },
  {
   "cell_type": "code",
   "execution_count": 139,
   "metadata": {},
   "outputs": [
    {
     "data": {
      "text/plain": [
       "True"
      ]
     },
     "execution_count": 139,
     "metadata": {},
     "output_type": "execute_result"
    }
   ],
   "source": [
    "torch.cuda.is_available()"
   ]
  },
  {
   "cell_type": "code",
   "execution_count": 140,
   "metadata": {},
   "outputs": [
    {
     "data": {
      "text/plain": [
       "'GeForce RTX 2070 SUPER'"
      ]
     },
     "execution_count": 140,
     "metadata": {},
     "output_type": "execute_result"
    }
   ],
   "source": [
    "torch.cuda.get_device_name(0)"
   ]
  },
  {
   "cell_type": "code",
   "execution_count": 143,
   "metadata": {},
   "outputs": [
    {
     "data": {
      "text/plain": [
       "512"
      ]
     },
     "execution_count": 143,
     "metadata": {},
     "output_type": "execute_result"
    }
   ],
   "source": [
    "torch.cuda.memory_allocated()"
   ]
  },
  {
   "cell_type": "code",
   "execution_count": 167,
   "metadata": {},
   "outputs": [
    {
     "data": {
      "text/plain": [
       "<torch._C.Generator at 0x7fc9901acf30>"
      ]
     },
     "execution_count": 167,
     "metadata": {},
     "output_type": "execute_result"
    }
   ],
   "source": [
    "# hyperparameters to test estimating OLS\n",
    "N = 100000\n",
    "k = 4\n",
    "\n",
    "torch.manual_seed(101010101)"
   ]
  },
  {
   "cell_type": "code",
   "execution_count": 168,
   "metadata": {},
   "outputs": [],
   "source": [
    "# y is a torch tensor of dimension N, 1\n",
    "# X is a torch tensor of dimension N, k\n",
    "# returns bhat (estimate of parameters), Shat (variance-covariance matrix)\n",
    "def regress(y, X):\n",
    "    \n",
    "    # making the estimation easier to read\n",
    "    Xpy = torch.mm(X.t(),y)\n",
    "    XpX = torch.mm(X.t(),X)\n",
    "    \n",
    "    # parameter estimate (bhat)\n",
    "    bhat, LU = torch.solve(Xpy, XpX)\n",
    "    \n",
    "    # calculating the variance-covariance matrix (Shat)\n",
    "    ehat = y - torch.mm(X, bhat)\n",
    "    shat2 = torch.mm(ehat.t(), ehat)/(N-k)\n",
    "    Shat = (XpX.inverse()*shat2)\n",
    "    \n",
    "    return bhat, Shat"
   ]
  },
  {
   "cell_type": "code",
   "execution_count": null,
   "metadata": {},
   "outputs": [],
   "source": []
  },
  {
   "cell_type": "code",
   "execution_count": 175,
   "metadata": {},
   "outputs": [
    {
     "name": "stdout",
     "output_type": "stream",
     "text": [
      "0.005583880003541708\n"
     ]
    }
   ],
   "source": [
    "# CUDA version\n",
    "\n",
    "# randomly creating b (beta)\n",
    "b = torch.cat((2*torch.rand(k-1,1)-0.5, torch.zeros(1,1) + 1), 0).cuda()\n",
    "\n",
    "# randomly creating X and y from b\n",
    "Xnocons = torch.rand(N, k-1).cuda()\n",
    "cons = (torch.zeros(N,1) + 1).cuda()\n",
    "X = torch.cat((Xnocons, cons), 1)\n",
    "e = (torch.rand(N,1) - 0.5).cuda() # rand is between [0,1)\n",
    "y = torch.mm(X, b) + e\n",
    "\n",
    "start = timer()\n",
    "bhat, Shat = regress(y, X)\n",
    "end = timer()\n",
    "\n",
    "print(end - start)"
   ]
  },
  {
   "cell_type": "code",
   "execution_count": 181,
   "metadata": {},
   "outputs": [
    {
     "name": "stdout",
     "output_type": "stream",
     "text": [
      "0.0019474120053928345\n"
     ]
    }
   ],
   "source": [
    "# CPU version\n",
    "\n",
    "# randomly creating b (beta)\n",
    "b = torch.cat((2*torch.rand(k-1,1)-0.5, torch.zeros(1,1) + 1), 0)\n",
    "\n",
    "# randomly creating X and y from b\n",
    "Xnocons = torch.rand(N, k-1)\n",
    "cons = (torch.zeros(N,1) + 1)\n",
    "X = torch.cat((Xnocons, cons), 1)\n",
    "e = (torch.rand(N,1) - 0.5) # rand is between [0,1)\n",
    "y = torch.mm(X, b) + e\n",
    "\n",
    "start = timer()\n",
    "bhat, Shat = regress(y, X)\n",
    "end = timer()\n",
    "\n",
    "print(end - start)"
   ]
  },
  {
   "cell_type": "code",
   "execution_count": 160,
   "metadata": {},
   "outputs": [
    {
     "data": {
      "text/plain": [
       "tensor([[0.7450],\n",
       "        [0.5557],\n",
       "        [0.0084],\n",
       "        [1.0000]], device='cuda:0')"
      ]
     },
     "execution_count": 160,
     "metadata": {},
     "output_type": "execute_result"
    }
   ],
   "source": [
    "b"
   ]
  },
  {
   "cell_type": "code",
   "execution_count": 161,
   "metadata": {},
   "outputs": [
    {
     "data": {
      "text/plain": [
       "tensor([[0.7472],\n",
       "        [0.5569],\n",
       "        [0.0106],\n",
       "        [0.9981]], device='cuda:0')"
      ]
     },
     "execution_count": 161,
     "metadata": {},
     "output_type": "execute_result"
    }
   ],
   "source": [
    "bhat"
   ]
  },
  {
   "cell_type": "code",
   "execution_count": 162,
   "metadata": {},
   "outputs": [
    {
     "data": {
      "text/plain": [
       "tensor([[ 9.9210e-06, -8.9410e-08,  3.5537e-08, -4.9240e-06],\n",
       "        [-8.9407e-08,  9.9326e-06,  4.7515e-08, -4.9468e-06],\n",
       "        [ 3.5536e-08,  4.7512e-08,  9.9463e-06, -5.0162e-06],\n",
       "        [-4.9240e-06, -4.9468e-06, -5.0162e-06,  8.2675e-06]], device='cuda:0')"
      ]
     },
     "execution_count": 162,
     "metadata": {},
     "output_type": "execute_result"
    }
   ],
   "source": [
    "Shat"
   ]
  },
  {
   "cell_type": "code",
   "execution_count": 163,
   "metadata": {},
   "outputs": [],
   "source": [
    "sbhat = np.apply_along_axis(np.sqrt, 0, S.diag().numpy())"
   ]
  },
  {
   "cell_type": "code",
   "execution_count": 164,
   "metadata": {},
   "outputs": [
    {
     "data": {
      "text/plain": [
       "array([0.0031719 , 0.00316232, 0.00316091, 0.00289191], dtype=float32)"
      ]
     },
     "execution_count": 164,
     "metadata": {},
     "output_type": "execute_result"
    }
   ],
   "source": [
    "sbhat"
   ]
  },
  {
   "cell_type": "code",
   "execution_count": 165,
   "metadata": {},
   "outputs": [
    {
     "data": {
      "text/plain": [
       "4004352"
      ]
     },
     "execution_count": 165,
     "metadata": {},
     "output_type": "execute_result"
    }
   ],
   "source": [
    "torch.cuda.memory_allocated()"
   ]
  },
  {
   "cell_type": "code",
   "execution_count": 124,
   "metadata": {},
   "outputs": [],
   "source": []
  },
  {
   "cell_type": "code",
   "execution_count": null,
   "metadata": {},
   "outputs": [],
   "source": []
  },
  {
   "cell_type": "code",
   "execution_count": null,
   "metadata": {},
   "outputs": [],
   "source": []
  },
  {
   "cell_type": "code",
   "execution_count": 23,
   "metadata": {},
   "outputs": [],
   "source": []
  },
  {
   "cell_type": "code",
   "execution_count": null,
   "metadata": {},
   "outputs": [],
   "source": []
  },
  {
   "cell_type": "code",
   "execution_count": null,
   "metadata": {},
   "outputs": [],
   "source": []
  },
  {
   "cell_type": "code",
   "execution_count": null,
   "metadata": {},
   "outputs": [],
   "source": []
  }
 ],
 "metadata": {
  "kernelspec": {
   "display_name": "Python 3",
   "language": "python",
   "name": "python3"
  },
  "language_info": {
   "codemirror_mode": {
    "name": "ipython",
    "version": 3
   },
   "file_extension": ".py",
   "mimetype": "text/x-python",
   "name": "python",
   "nbconvert_exporter": "python",
   "pygments_lexer": "ipython3",
   "version": "3.7.6"
  }
 },
 "nbformat": 4,
 "nbformat_minor": 4
}
